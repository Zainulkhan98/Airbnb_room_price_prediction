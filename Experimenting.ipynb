{
 "cells": [
  {
   "cell_type": "markdown",
   "source": [],
   "metadata": {
    "collapsed": false
   },
   "id": "6d5d9acf68167c18"
  },
  {
   "cell_type": "code",
   "execution_count": 1,
   "id": "initial_id",
   "metadata": {
    "collapsed": true,
    "ExecuteTime": {
     "end_time": "2024-04-28T11:48:30.050124Z",
     "start_time": "2024-04-28T11:48:30.036969Z"
    }
   },
   "outputs": [],
   "source": [
    "import pandas as pd\n",
    "import numpy as np\n",
    "import matplotlib.pyplot as plt\n",
    "import seaborn as sns\n",
    "import datetime as dt"
   ]
  },
  {
   "cell_type": "code",
   "outputs": [],
   "source": [
    "df = pd.read_csv('Data\\Airbnb_Data.csv')\n",
    "df = pd.DataFrame(df)"
   ],
   "metadata": {
    "collapsed": false,
    "ExecuteTime": {
     "end_time": "2024-04-28T11:48:31.934431Z",
     "start_time": "2024-04-28T11:48:30.052929Z"
    }
   },
   "id": "78bf061df0ded429",
   "execution_count": 2
  },
  {
   "cell_type": "code",
   "outputs": [
    {
     "data": {
      "text/plain": "         id  log_price property_type        room_type  \\\n0   6901257   5.010635     Apartment  Entire home/apt   \n1   6304928   5.129899     Apartment  Entire home/apt   \n2   7919400   4.976734     Apartment  Entire home/apt   \n3  13418779   6.620073         House  Entire home/apt   \n4   3808709   4.744932     Apartment  Entire home/apt   \n\n                                           amenities  accommodates  bathrooms  \\\n0  {\"Wireless Internet\",\"Air conditioning\",Kitche...             3        1.0   \n1  {\"Wireless Internet\",\"Air conditioning\",Kitche...             7        1.0   \n2  {TV,\"Cable TV\",\"Wireless Internet\",\"Air condit...             5        1.0   \n3  {TV,\"Cable TV\",Internet,\"Wireless Internet\",Ki...             4        1.0   \n4  {TV,Internet,\"Wireless Internet\",\"Air conditio...             2        1.0   \n\n   bed_type cancellation_policy  cleaning_fee  ...   latitude   longitude  \\\n0  Real Bed              strict          True  ...  40.696524  -73.991617   \n1  Real Bed              strict          True  ...  40.766115  -73.989040   \n2  Real Bed            moderate          True  ...  40.808110  -73.943756   \n3  Real Bed            flexible          True  ...  37.772004 -122.431619   \n4  Real Bed            moderate          True  ...  38.925627  -77.034596   \n\n                                       name     neighbourhood  \\\n0            Beautiful brownstone 1-bedroom  Brooklyn Heights   \n1  Superb 3BR Apt Located Near Times Square    Hell's Kitchen   \n2                          The Garden Oasis            Harlem   \n3        Beautiful Flat in the Heart of SF!      Lower Haight   \n4                Great studio in midtown DC  Columbia Heights   \n\n  number_of_reviews review_scores_rating  \\\n0                 2                100.0   \n1                 6                 93.0   \n2                10                 92.0   \n3                 0                  NaN   \n4                 4                 40.0   \n\n                                       thumbnail_url  zipcode bedrooms  beds  \n0  https://a0.muscache.com/im/pictures/6d7cbbf7-c...    11201      1.0   1.0  \n1  https://a0.muscache.com/im/pictures/348a55fe-4...    10019      3.0   3.0  \n2  https://a0.muscache.com/im/pictures/6fae5362-9...    10027      1.0   3.0  \n3  https://a0.muscache.com/im/pictures/72208dad-9...  94117.0      2.0   2.0  \n4                                                NaN    20009      0.0   1.0  \n\n[5 rows x 29 columns]",
      "text/html": "<div>\n<style scoped>\n    .dataframe tbody tr th:only-of-type {\n        vertical-align: middle;\n    }\n\n    .dataframe tbody tr th {\n        vertical-align: top;\n    }\n\n    .dataframe thead th {\n        text-align: right;\n    }\n</style>\n<table border=\"1\" class=\"dataframe\">\n  <thead>\n    <tr style=\"text-align: right;\">\n      <th></th>\n      <th>id</th>\n      <th>log_price</th>\n      <th>property_type</th>\n      <th>room_type</th>\n      <th>amenities</th>\n      <th>accommodates</th>\n      <th>bathrooms</th>\n      <th>bed_type</th>\n      <th>cancellation_policy</th>\n      <th>cleaning_fee</th>\n      <th>...</th>\n      <th>latitude</th>\n      <th>longitude</th>\n      <th>name</th>\n      <th>neighbourhood</th>\n      <th>number_of_reviews</th>\n      <th>review_scores_rating</th>\n      <th>thumbnail_url</th>\n      <th>zipcode</th>\n      <th>bedrooms</th>\n      <th>beds</th>\n    </tr>\n  </thead>\n  <tbody>\n    <tr>\n      <th>0</th>\n      <td>6901257</td>\n      <td>5.010635</td>\n      <td>Apartment</td>\n      <td>Entire home/apt</td>\n      <td>{\"Wireless Internet\",\"Air conditioning\",Kitche...</td>\n      <td>3</td>\n      <td>1.0</td>\n      <td>Real Bed</td>\n      <td>strict</td>\n      <td>True</td>\n      <td>...</td>\n      <td>40.696524</td>\n      <td>-73.991617</td>\n      <td>Beautiful brownstone 1-bedroom</td>\n      <td>Brooklyn Heights</td>\n      <td>2</td>\n      <td>100.0</td>\n      <td>https://a0.muscache.com/im/pictures/6d7cbbf7-c...</td>\n      <td>11201</td>\n      <td>1.0</td>\n      <td>1.0</td>\n    </tr>\n    <tr>\n      <th>1</th>\n      <td>6304928</td>\n      <td>5.129899</td>\n      <td>Apartment</td>\n      <td>Entire home/apt</td>\n      <td>{\"Wireless Internet\",\"Air conditioning\",Kitche...</td>\n      <td>7</td>\n      <td>1.0</td>\n      <td>Real Bed</td>\n      <td>strict</td>\n      <td>True</td>\n      <td>...</td>\n      <td>40.766115</td>\n      <td>-73.989040</td>\n      <td>Superb 3BR Apt Located Near Times Square</td>\n      <td>Hell's Kitchen</td>\n      <td>6</td>\n      <td>93.0</td>\n      <td>https://a0.muscache.com/im/pictures/348a55fe-4...</td>\n      <td>10019</td>\n      <td>3.0</td>\n      <td>3.0</td>\n    </tr>\n    <tr>\n      <th>2</th>\n      <td>7919400</td>\n      <td>4.976734</td>\n      <td>Apartment</td>\n      <td>Entire home/apt</td>\n      <td>{TV,\"Cable TV\",\"Wireless Internet\",\"Air condit...</td>\n      <td>5</td>\n      <td>1.0</td>\n      <td>Real Bed</td>\n      <td>moderate</td>\n      <td>True</td>\n      <td>...</td>\n      <td>40.808110</td>\n      <td>-73.943756</td>\n      <td>The Garden Oasis</td>\n      <td>Harlem</td>\n      <td>10</td>\n      <td>92.0</td>\n      <td>https://a0.muscache.com/im/pictures/6fae5362-9...</td>\n      <td>10027</td>\n      <td>1.0</td>\n      <td>3.0</td>\n    </tr>\n    <tr>\n      <th>3</th>\n      <td>13418779</td>\n      <td>6.620073</td>\n      <td>House</td>\n      <td>Entire home/apt</td>\n      <td>{TV,\"Cable TV\",Internet,\"Wireless Internet\",Ki...</td>\n      <td>4</td>\n      <td>1.0</td>\n      <td>Real Bed</td>\n      <td>flexible</td>\n      <td>True</td>\n      <td>...</td>\n      <td>37.772004</td>\n      <td>-122.431619</td>\n      <td>Beautiful Flat in the Heart of SF!</td>\n      <td>Lower Haight</td>\n      <td>0</td>\n      <td>NaN</td>\n      <td>https://a0.muscache.com/im/pictures/72208dad-9...</td>\n      <td>94117.0</td>\n      <td>2.0</td>\n      <td>2.0</td>\n    </tr>\n    <tr>\n      <th>4</th>\n      <td>3808709</td>\n      <td>4.744932</td>\n      <td>Apartment</td>\n      <td>Entire home/apt</td>\n      <td>{TV,Internet,\"Wireless Internet\",\"Air conditio...</td>\n      <td>2</td>\n      <td>1.0</td>\n      <td>Real Bed</td>\n      <td>moderate</td>\n      <td>True</td>\n      <td>...</td>\n      <td>38.925627</td>\n      <td>-77.034596</td>\n      <td>Great studio in midtown DC</td>\n      <td>Columbia Heights</td>\n      <td>4</td>\n      <td>40.0</td>\n      <td>NaN</td>\n      <td>20009</td>\n      <td>0.0</td>\n      <td>1.0</td>\n    </tr>\n  </tbody>\n</table>\n<p>5 rows × 29 columns</p>\n</div>"
     },
     "execution_count": 3,
     "metadata": {},
     "output_type": "execute_result"
    }
   ],
   "source": [
    "df.head()"
   ],
   "metadata": {
    "collapsed": false,
    "ExecuteTime": {
     "end_time": "2024-04-28T11:48:32.011931Z",
     "start_time": "2024-04-28T11:48:31.937132Z"
    }
   },
   "id": "1cfaf23910eab80d",
   "execution_count": 3
  },
  {
   "cell_type": "code",
   "outputs": [
    {
     "ename": "KeyboardInterrupt",
     "evalue": "",
     "output_type": "error",
     "traceback": [
      "\u001B[1;31m---------------------------------------------------------------------------\u001B[0m",
      "\u001B[1;31mKeyboardInterrupt\u001B[0m                         Traceback (most recent call last)",
      "Cell \u001B[1;32mIn[5], line 3\u001B[0m\n\u001B[0;32m      1\u001B[0m \u001B[38;5;28;01mfor\u001B[39;00m i \u001B[38;5;129;01min\u001B[39;00m df[\u001B[38;5;124m\"\u001B[39m\u001B[38;5;124mzipcode\u001B[39m\u001B[38;5;124m\"\u001B[39m]:\n\u001B[0;32m      2\u001B[0m     \u001B[38;5;28;01mif\u001B[39;00m i \u001B[38;5;241m!=\u001B[39m \u001B[38;5;124m'\u001B[39m\u001B[38;5;124m'\u001B[39m :\n\u001B[1;32m----> 3\u001B[0m         i\u001B[38;5;241m=\u001B[39m\u001B[43mdf\u001B[49m\u001B[43m[\u001B[49m\u001B[38;5;124;43m\"\u001B[39;49m\u001B[38;5;124;43mzipcode\u001B[39;49m\u001B[38;5;124;43m\"\u001B[39;49m\u001B[43m]\u001B[49m\u001B[38;5;241;43m.\u001B[39;49m\u001B[43mmode\u001B[49m\u001B[43m(\u001B[49m\u001B[43m)\u001B[49m\n\u001B[0;32m      4\u001B[0m     \u001B[38;5;28;01melse\u001B[39;00m:\n\u001B[0;32m      5\u001B[0m         \u001B[38;5;28mprint\u001B[39m(\u001B[38;5;124m\"\u001B[39m\u001B[38;5;124mNo missing values\u001B[39m\u001B[38;5;124m\"\u001B[39m)\n",
      "File \u001B[1;32mF:\\Users\\DELL\\PycharmProjects\\Airbnb_room_price_predition\\venv\\new_python\\lib\\site-packages\\pandas\\core\\series.py:2122\u001B[0m, in \u001B[0;36mSeries.mode\u001B[1;34m(self, dropna)\u001B[0m\n\u001B[0;32m   2120\u001B[0m values \u001B[38;5;241m=\u001B[39m \u001B[38;5;28mself\u001B[39m\u001B[38;5;241m.\u001B[39m_values\n\u001B[0;32m   2121\u001B[0m \u001B[38;5;28;01mif\u001B[39;00m \u001B[38;5;28misinstance\u001B[39m(values, np\u001B[38;5;241m.\u001B[39mndarray):\n\u001B[1;32m-> 2122\u001B[0m     res_values \u001B[38;5;241m=\u001B[39m \u001B[43malgorithms\u001B[49m\u001B[38;5;241;43m.\u001B[39;49m\u001B[43mmode\u001B[49m\u001B[43m(\u001B[49m\u001B[43mvalues\u001B[49m\u001B[43m,\u001B[49m\u001B[43m \u001B[49m\u001B[43mdropna\u001B[49m\u001B[38;5;241;43m=\u001B[39;49m\u001B[43mdropna\u001B[49m\u001B[43m)\u001B[49m\n\u001B[0;32m   2123\u001B[0m \u001B[38;5;28;01melse\u001B[39;00m:\n\u001B[0;32m   2124\u001B[0m     res_values \u001B[38;5;241m=\u001B[39m values\u001B[38;5;241m.\u001B[39m_mode(dropna\u001B[38;5;241m=\u001B[39mdropna)\n",
      "File \u001B[1;32mF:\\Users\\DELL\\PycharmProjects\\Airbnb_room_price_predition\\venv\\new_python\\lib\\site-packages\\pandas\\core\\algorithms.py:996\u001B[0m, in \u001B[0;36mmode\u001B[1;34m(values, dropna, mask)\u001B[0m\n\u001B[0;32m    992\u001B[0m     \u001B[38;5;28;01mreturn\u001B[39;00m values\u001B[38;5;241m.\u001B[39m_mode(dropna\u001B[38;5;241m=\u001B[39mdropna)\n\u001B[0;32m    994\u001B[0m values \u001B[38;5;241m=\u001B[39m _ensure_data(values)\n\u001B[1;32m--> 996\u001B[0m npresult \u001B[38;5;241m=\u001B[39m \u001B[43mhtable\u001B[49m\u001B[38;5;241;43m.\u001B[39;49m\u001B[43mmode\u001B[49m\u001B[43m(\u001B[49m\u001B[43mvalues\u001B[49m\u001B[43m,\u001B[49m\u001B[43m \u001B[49m\u001B[43mdropna\u001B[49m\u001B[38;5;241;43m=\u001B[39;49m\u001B[43mdropna\u001B[49m\u001B[43m,\u001B[49m\u001B[43m \u001B[49m\u001B[43mmask\u001B[49m\u001B[38;5;241;43m=\u001B[39;49m\u001B[43mmask\u001B[49m\u001B[43m)\u001B[49m\n\u001B[0;32m    997\u001B[0m \u001B[38;5;28;01mtry\u001B[39;00m:\n\u001B[0;32m    998\u001B[0m     npresult \u001B[38;5;241m=\u001B[39m np\u001B[38;5;241m.\u001B[39msort(npresult)\n",
      "\u001B[1;31mKeyboardInterrupt\u001B[0m: "
     ]
    }
   ],
   "source": [
    "for i in df[\"zipcode\"]:\n",
    "    if i != '' :\n",
    "        i=df[\"zipcode\"].mode()\n",
    "    else:\n",
    "        print(\"No missing values\")"
   ],
   "metadata": {
    "collapsed": false,
    "ExecuteTime": {
     "end_time": "2024-04-28T11:52:04.117525Z",
     "start_time": "2024-04-28T11:50:56.369665Z"
    }
   },
   "id": "a93bad3bd7605494",
   "execution_count": 5
  },
  {
   "cell_type": "code",
   "outputs": [],
   "source": [
    "\n",
    "\n",
    "from sklearn.impute import SimpleImputer\n",
    "from sklearn.preprocessing import StandardScaler\n",
    "\n",
    "imputer = SimpleImputer(strategy='most_frequent')\n",
    "\n",
    "\n",
    "\n",
    "# df['zipcode'] = pd.to_numeric(df['zipcode'], errors='coerce')\n",
    "\n",
    "\n",
    "df[\"zipcode\"] = imputer.fit_transform(df[\"zipcode\"])\n",
    "df['zipcode'] = df['zipcode'].astype(int)\n",
    "df[\"zipcode\"] = df[\"zipcode\"].values.reshape(-1, 1)\n",
    "std = StandardScaler()\n",
    "\n",
    "df['zipcode'] = std.fit_transform(df['zipcode'])\n"
   ],
   "metadata": {
    "collapsed": false,
    "ExecuteTime": {
     "end_time": "2024-04-28T11:50:50.402663Z",
     "start_time": "2024-04-28T11:50:50.402663Z"
    }
   },
   "id": "f83226f80f1d055f",
   "execution_count": null
  },
  {
   "cell_type": "code",
   "outputs": [],
   "source": [
    "categorical_col = [\"property_type\",\"room_type\",\"amenities\",\"bed_type\",\"cancellation_policy\",\"cleaning_fee\",\"city\",\"host_has_profile_pic\",\n",
    "                   \"host_identity_verified\",\"instant_bookable\",\"neighbourhood\"]\n",
    "\n",
    "scaling_req_col = [\"id\", \"zipcode\"]\n",
    "\n",
    "\n",
    "for i in scaling_req_col:\n",
    "    print(df[i].isnull().sum())"
   ],
   "metadata": {
    "collapsed": false,
    "ExecuteTime": {
     "end_time": "2024-04-28T11:50:50.410641Z",
     "start_time": "2024-04-28T11:50:50.405655Z"
    }
   },
   "id": "6f7a7a9b05dd8164",
   "execution_count": null
  },
  {
   "cell_type": "code",
   "outputs": [],
   "source": [
    "# df['amenities'] = df['amenities'].str.replace('{}', '')\n",
    "# df['amenities'].split(\",\")\n",
    "\n",
    "df['amenities'] = df['amenities'].str.replace('{', '')\n",
    "df['amenities'] = df['amenities'].str.replace('}', '')\n",
    "\n",
    "\n",
    "# Split the amenities\n",
    "sep_col = df['amenities'].str.get_dummies(sep=',')\n",
    "\n",
    "#Join the amenities DataFrame with the original DataFrame\n",
    "df = pd.concat([df, sep_col], axis=1)\n",
    "\n",
    "df = df.drop(['amenities'], axis=1)"
   ],
   "metadata": {
    "collapsed": false,
    "ExecuteTime": {
     "end_time": "2024-04-28T11:50:50.415628Z",
     "start_time": "2024-04-28T11:50:50.413634Z"
    }
   },
   "id": "9d0aa2d276f4d3ee",
   "execution_count": null
  },
  {
   "cell_type": "code",
   "outputs": [],
   "source": [
    "df.head()\n"
   ],
   "metadata": {
    "collapsed": false,
    "ExecuteTime": {
     "end_time": "2024-04-28T11:50:50.420614Z",
     "start_time": "2024-04-28T11:50:50.417622Z"
    }
   },
   "id": "44d64aac9564be6a",
   "execution_count": null
  },
  {
   "cell_type": "code",
   "outputs": [],
   "source": [
    "df[\"property_type\",\"room_type\",\"amenities\",\"bed_type\",\"cancellation_policy\",\"cleaning_fee\",\"city\",\"host_has_profile_pic\",\n",
    "                   \"host_identity_verified\",\"instant_bookable\",\"neighbourhood\"].unique()"
   ],
   "metadata": {
    "collapsed": false,
    "ExecuteTime": {
     "end_time": "2024-04-28T11:50:50.424604Z",
     "start_time": "2024-04-28T11:50:50.423607Z"
    }
   },
   "id": "db75bab85a9c1dfb",
   "execution_count": null
  },
  {
   "cell_type": "code",
   "outputs": [],
   "source": [],
   "metadata": {
    "collapsed": false
   },
   "id": "19eb34ed9be5ce63"
  },
  {
   "cell_type": "code",
   "outputs": [],
   "source": [
    "from sklearn.preprocessing import OneHotEncoder, StandardScaler\n",
    "from sklearn.impute import SimpleImputer\n",
    "from sklearn.compose import ColumnTransformer\n",
    "from new_input_features.Columns import *\n",
    "Data = df.iloc[:10000, :]\n",
    "\n",
    "\n",
    "Data['host_since'] = pd.to_datetime(Data['host_since'])\n",
    "Data['host_since_year'] = Data['host_since'].dt.year\n",
    "Data['host_since_month'] = Data['host_since'].dt.month\n",
    "Data['host_since_day'] = Data['host_since'].dt.day\n",
    "Data = Data.drop('host_since', axis=1)\n",
    "    \n",
    "# Not using this function on other columns because, the first these columns has way too many missing values\n",
    "\n",
    "\n",
    "# Data[mean_col] = Data[mean_col].astype(int)\n",
    "\n",
    "# df['host_response_rate'] = df['host_response_rate'].str.replace('%', '').astype(float)\n",
    "# df['host_response_rate'] = df['host_response_rate'].astype(int)\n",
    "\n",
    "# Data[\"bathrooms\",\"bedrooms\",\"beds\"] = Data[\"bathrooms\",\"bedrooms\",\"beds\"].astype(int)\n",
    "\n",
    "Data.drop(df[good_to_drop_col], axis=1)\n",
    "\n",
    "\n",
    "imputer = SimpleImputer(strategy='most_frequent')\n",
    "Data[most_freq_col] = imputer.fit_transform(Data[most_freq_col])\n",
    "\n",
    "imputer1 = SimpleImputer(strategy='mean')\n",
    "Data[mean_col] = imputer1.fit_transform(Data[mean_col])\n",
    "\n",
    "imputer2 = SimpleImputer(strategy='median')\n",
    "Data[median_col] = imputer2.fit_transform(Data[median_col])\n",
    "\n",
    "\n",
    "scaler = StandardScaler()\n",
    "Data[scaling_req_col] = scaler.fit_transform(Data[scaling_req_col])\n",
    "\n",
    "\n",
    "ohe = OneHotEncoder(sparse_output=False, handle_unknown='ignore')\n",
    "data_to_encode = Data[scaling_req_col]\n",
    "encoded_data = ohe.fit_transform(scaling_req_col)\n",
    "    \n",
    "\n",
    "encoded_data.shape()"
   ],
   "metadata": {
    "collapsed": false
   },
   "id": "45006bd44ba3cf6",
   "execution_count": null
  },
  {
   "cell_type": "code",
   "outputs": [],
   "source": [
    "\n",
    "\n",
    "Data.head()"
   ],
   "metadata": {
    "collapsed": false
   },
   "id": "21e3eba42ca3fe65",
   "execution_count": null
  },
  {
   "cell_type": "code",
   "outputs": [],
   "source": [
    "df['first_review'] = pd.to_datetime(df['first_review'])\n",
    " \n",
    "df['first_review_year'] = (df['first_review'].dt.year)\n",
    "df['first_review_month'] = df['first_review'].dt.month\n",
    "df['first_review_day'] = df['first_review'].dt.day\n",
    "df = df.drop('first_review', axis=1)"
   ],
   "metadata": {
    "collapsed": false
   },
   "id": "df0bbc19c7d165bd",
   "execution_count": null
  },
  {
   "cell_type": "code",
   "outputs": [],
   "source": [
    "df.head(30)"
   ],
   "metadata": {
    "collapsed": false
   },
   "id": "fd70dd22fd16ae5d",
   "execution_count": null
  },
  {
   "cell_type": "code",
   "outputs": [],
   "source": [
    "df.isnull().sum()\n"
   ],
   "metadata": {
    "collapsed": false
   },
   "id": "1759f9584241acb3",
   "execution_count": null
  },
  {
   "cell_type": "code",
   "outputs": [],
   "source": [
    "from sklearn.impute import SimpleImputer\n",
    "\n",
    "impute = SimpleImputer(strategy='median')\n",
    "np.integer(df['first_review_year','first_review_month', 'first_review_day'])\n",
    "dl = impute.fit_transform(df['first_review_year', 'first_review_month', 'first_review_day'])\n",
    "\n",
    "dl = pd.DataFrame(dl)"
   ],
   "metadata": {
    "collapsed": false
   },
   "id": "d78514f5032c0943",
   "execution_count": null
  },
  {
   "cell_type": "code",
   "outputs": [],
   "source": [
    "df.isnull().sum()"
   ],
   "metadata": {
    "collapsed": false
   },
   "id": "1ada3d7fbeac5241",
   "execution_count": null
  },
  {
   "cell_type": "code",
   "outputs": [],
   "source": [
    "df.head()"
   ],
   "metadata": {
    "collapsed": false
   },
   "id": "c799c302a9f73661",
   "execution_count": null
  },
  {
   "cell_type": "code",
   "outputs": [],
   "source": [
    "df['name'].nunique()"
   ],
   "metadata": {
    "collapsed": false
   },
   "id": "15a974106d313b47",
   "execution_count": null
  },
  {
   "cell_type": "code",
   "outputs": [],
   "source": [],
   "metadata": {
    "collapsed": false,
    "ExecuteTime": {
     "start_time": "2024-04-28T11:50:50.461854Z"
    }
   },
   "id": "c0e428b4ade75b0c",
   "execution_count": null
  },
  {
   "cell_type": "code",
   "outputs": [],
   "source": [],
   "metadata": {
    "collapsed": false
   },
   "id": "6a43630e5946075e"
  }
 ],
 "metadata": {
  "kernelspec": {
   "display_name": "Python 3",
   "language": "python",
   "name": "python3"
  },
  "language_info": {
   "codemirror_mode": {
    "name": "ipython",
    "version": 2
   },
   "file_extension": ".py",
   "mimetype": "text/x-python",
   "name": "python",
   "nbconvert_exporter": "python",
   "pygments_lexer": "ipython2",
   "version": "2.7.6"
  }
 },
 "nbformat": 4,
 "nbformat_minor": 5
}
